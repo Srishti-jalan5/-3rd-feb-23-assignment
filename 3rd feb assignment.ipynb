{
 "cells": [
  {
   "cell_type": "code",
   "execution_count": 1,
   "id": "c1f72591-ab1d-461f-b4b4-e1b5c34e68b1",
   "metadata": {},
   "outputs": [
    {
     "data": {
      "text/plain": [
       "[1, 3, 5, 7, 9, 11, 13, 15, 17, 19, 21, 23, 25]"
      ]
     },
     "execution_count": 1,
     "metadata": {},
     "output_type": "execute_result"
    }
   ],
   "source": [
    "#Q1\n",
    "# def keyworf is used to creat a function\n",
    "\n",
    "def odd():\n",
    "    l=[]\n",
    "    for i in range(1,26):\n",
    "        if (i%2 != 0):\n",
    "            l.append(i)\n",
    "    return l\n",
    "            \n",
    "odd()\n"
   ]
  },
  {
   "cell_type": "code",
   "execution_count": 6,
   "id": "5782d415-358a-4d67-8a5e-3e6139b2670f",
   "metadata": {},
   "outputs": [
    {
     "name": "stdout",
     "output_type": "stream",
     "text": [
      "(23, 45, 67, 89)\n"
     ]
    },
    {
     "data": {
      "text/plain": [
       "{'a': [23, 45, 67, 79], 'b': 78, 'c': 'srishti'}"
      ]
     },
     "execution_count": 6,
     "metadata": {},
     "output_type": "execute_result"
    }
   ],
   "source": [
    "#Q2\n",
    "#*args used to take multiple inputs in form of tuple\n",
    "#*kwargs used to take multiple inputs in form of dictionary\n",
    "\n",
    "def tup(*args):\n",
    "    return args\n",
    "\n",
    "print(tup(23,45,67,89))\n",
    "\n",
    "def tup_dict(**kwargs):\n",
    "    return kwargs\n",
    "\n",
    "tup_dict(a=[23,45,67,79], b=78, c=\"srishti\")"
   ]
  },
  {
   "cell_type": "code",
   "execution_count": 1,
   "id": "a71f132a-c0cf-4d3a-a80d-e6fe59e536c5",
   "metadata": {},
   "outputs": [
    {
     "name": "stdout",
     "output_type": "stream",
     "text": [
      "b\n",
      "a\n",
      "n\n",
      "a\n",
      "n\n",
      "a\n"
     ]
    }
   ],
   "source": [
    "#Q3\n",
    "#An iterator is an object that contains a countable number of values.\n",
    "#Examples __iter__() and __next__()\n",
    "\n",
    "mystr = \"banana\"\n",
    "myit = iter(mystr)\n",
    "\n",
    "print(next(myit))\n",
    "print(next(myit))\n",
    "print(next(myit))\n",
    "print(next(myit))\n",
    "print(next(myit))\n",
    "print(next(myit))"
   ]
  },
  {
   "cell_type": "code",
   "execution_count": 2,
   "id": "e71eb1a7-e7b9-48a9-8574-c36a4e2ee6f4",
   "metadata": {},
   "outputs": [],
   "source": [
    "#Q4 \n",
    "#generator function produce iteration over the values\n",
    "#Yield keyword used to return values and object\n",
    "#example of generator funtion are __iter__(),__next__()\n"
   ]
  },
  {
   "cell_type": "code",
   "execution_count": 19,
   "id": "ae4ecbdf-8ab3-4b15-bab2-e933cd028407",
   "metadata": {},
   "outputs": [
    {
     "ename": "SyntaxError",
     "evalue": "incomplete input (3102727463.py, line 14)",
     "output_type": "error",
     "traceback": [
      "\u001b[0;36m  Cell \u001b[0;32mIn[19], line 14\u001b[0;36m\u001b[0m\n\u001b[0;31m    \u001b[0m\n\u001b[0m    ^\u001b[0m\n\u001b[0;31mSyntaxError\u001b[0m\u001b[0;31m:\u001b[0m incomplete input\n"
     ]
    }
   ],
   "source": [
    "#Q5\n",
    "\n",
    "def generator_prime():\n",
    "    for i in range(2,1000):\n",
    "        count=0\n",
    "        for j in range(1,i+1):\n",
    "            if(i%j == 0):\n",
    "                count=count+1\n",
    "        if (count == 2):\n",
    "            print(i)\n",
    "\n",
    "print(next(iter(generator_prime()))\n"
   ]
  },
  {
   "cell_type": "code",
   "execution_count": null,
   "id": "c679053d-4359-47a8-b387-a0c89719f357",
   "metadata": {},
   "outputs": [],
   "source": [
    "#Q6\n",
    "\n",
    "i=10\n",
    "a,b = 0,1\n",
    "while i>0:\n",
    "    print(a)\n",
    "    c=a+b\n",
    "   \n",
    "    a=b\n",
    "    \n",
    "    i=i-1"
   ]
  },
  {
   "cell_type": "code",
   "execution_count": null,
   "id": "ee192923-8450-44eb-b68f-fcefe6c811aa",
   "metadata": {},
   "outputs": [],
   "source": [
    "#Q7\n",
    "\n",
    "str=\"pwskills\"\n",
    "[i for i in str]\n"
   ]
  },
  {
   "cell_type": "code",
   "execution_count": null,
   "id": "857e1bf1-fc3c-4383-a39b-fbfc95208506",
   "metadata": {},
   "outputs": [],
   "source": [
    "#Q8 \n",
    "\n",
    "num=int(input(\"Enter the number you want to check\"))\n",
    "temp=num\n",
    "while num>0:\n",
    "    d=n%10\n",
    "    palindrom= palindrom + d*10\n",
    "    num=num//10\n",
    "if(palindrom == temp):\n",
    "    print(\"palindrom\")\n",
    "else:\n",
    "    print(\"Not palindrom\")"
   ]
  },
  {
   "cell_type": "code",
   "execution_count": null,
   "id": "14473c6a-8c08-4dc1-90a2-6169cad293ee",
   "metadata": {},
   "outputs": [],
   "source": [
    "#Q9\n",
    "\n",
    "[i for i in range(1,100) if(i%2 != 0)]"
   ]
  },
  {
   "cell_type": "code",
   "execution_count": null,
   "id": "cd202e58-667e-465b-aae5-127589fc53b1",
   "metadata": {},
   "outputs": [],
   "source": []
  }
 ],
 "metadata": {
  "kernelspec": {
   "display_name": "Python 3 (ipykernel)",
   "language": "python",
   "name": "python3"
  },
  "language_info": {
   "codemirror_mode": {
    "name": "ipython",
    "version": 3
   },
   "file_extension": ".py",
   "mimetype": "text/x-python",
   "name": "python",
   "nbconvert_exporter": "python",
   "pygments_lexer": "ipython3",
   "version": "3.10.8"
  }
 },
 "nbformat": 4,
 "nbformat_minor": 5
}
